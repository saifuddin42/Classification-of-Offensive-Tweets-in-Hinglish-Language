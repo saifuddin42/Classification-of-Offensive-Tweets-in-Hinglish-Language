{
 "cells": [
  {
   "cell_type": "code",
   "execution_count": 1,
   "metadata": {},
   "outputs": [
    {
     "name": "stderr",
     "output_type": "stream",
     "text": [
      "C:\\Users\\saifu\\AppData\\Roaming\\Python\\Python38\\site-packages\\fuzzywuzzy\\fuzz.py:11: UserWarning: Using slow pure-python SequenceMatcher. Install python-Levenshtein to remove this warning\n",
      "  warnings.warn('Using slow pure-python SequenceMatcher. Install python-Levenshtein to remove this warning')\n"
     ]
    }
   ],
   "source": [
    "from collections import Counter\n",
    "import numpy as np\n",
    "import pandas as pd\n",
    "import nltk\n",
    "import re\n",
    "from nltk.corpus import stopwords\n",
    "import fuzzywuzzy\n",
    "from fuzzywuzzy import fuzz\n",
    "from  nltk import word_tokenize\n",
    "import torch.optim as optim\n",
    "import utils"
   ]
  },
  {
   "cell_type": "markdown",
   "metadata": {},
   "source": [
    "# Preprocessing"
   ]
  },
  {
   "cell_type": "code",
   "execution_count": 2,
   "metadata": {},
   "outputs": [],
   "source": [
    "def isEnglish(s):\n",
    "    try:\n",
    "        s.encode(encoding='utf-8').decode('ascii')\n",
    "    except UnicodeDecodeError:\n",
    "        return False\n",
    "    else:\n",
    "        return True\n",
    "    \n",
    "\n",
    "def remove_emoji(string):\n",
    "    emoji_pattern = re.compile(\"[\"\n",
    "                           u\"\\U0001F600-\\U0001F64F\"  # emoticons\n",
    "                           u\"\\U0001F300-\\U0001F5FF\"  # symbols & pictographs\n",
    "                           u\"\\U0001F680-\\U0001F6FF\"  # transport & map symbols\n",
    "                           u\"\\U0001F1E0-\\U0001F1FF\"  # flags (iOS)\n",
    "                           u\"\\U00002702-\\U000027B0\"\n",
    "                           u\"\\U000024C2-\\U0001F251\"\n",
    "                           \"]+\", flags=re.UNICODE)\n",
    "    return emoji_pattern.sub(r'', string)"
   ]
  },
  {
   "cell_type": "code",
   "execution_count": null,
   "metadata": {},
   "outputs": [],
   "source": [
    "def english_preprocessing(f):\n",
    "    # preprocessing english tweets.\n",
    "    #ingesting english csv file\n",
    "    df = pd.read_csv(f,names = ['source','comment','annotation'],encoding='UTF-8')\n",
    "    df['comment'] = df.comment.str.strip()   # removing spaces\n",
    "\n",
    "    comments = np.asarray(df['comment'])    # dividing the dataframe into comments and tags and converting to array\n",
    "    tags = np.asarray(df['annotation'])\n",
    "    print((len(comments)))\n",
    "    print(len(tags))\n",
    "\n",
    "    stop_words = set(stopwords.words('english'))  #english stop words list\n",
    "    temp_processed_tokens = []\n",
    "    for comment in comments:\n",
    "    #    comment = \"Also see ....hw ur RSS activist caught in Burkha .... throwing beef in d holy temples...https://www.google.co.in/amp/www.india.com/news/india/burkha-clad-rss-activist-caught-throwing-beef-at-temple-pictures-go-viral-on-facebook-593154/amp/,NAGfacebook_corpus_msr_403402,On the death of 2 jawans in LOC CROSS FIRING\"\n",
    "        comment = comment.lower()   #lower casing each tweets\n",
    "        Digit_REMOVAL = re.sub(r'[0-9]+', '',comment) #removal of numbers \n",
    "        URL_REMOVAL = re.sub(r\"http\\S+\", \"\", Digit_REMOVAL) # removal of URLS\n",
    "        tokenizer = nltk.RegexpTokenizer(r\"\\w+\")   # removal of punctuation and tokenizing\n",
    "        new_words = tokenizer.tokenize(URL_REMOVAL)\n",
    "        sentence = []\n",
    "        for word in new_words:\n",
    "            if word not in stop_words:           #checking for stop words on each sentence\n",
    "                sentence.append(word)\n",
    "        temp_processed_tokens.append(sentence)\n",
    "    return temp_processed_tokens"
   ]
  },
  {
   "cell_type": "code",
   "execution_count": null,
   "metadata": {},
   "outputs": [],
   "source": [
    "train_f = \"./english/agr_en_train.csv\"\n",
    "processed_tokens = english_preprocessing(train_f)"
   ]
  },
  {
   "cell_type": "code",
   "execution_count": null,
   "metadata": {},
   "outputs": [],
   "source": [
    "# f = \"english/agr_en_train.csv\"\n",
    "# test_f = \"agr_en_fb_test.csv\"\n",
    "dev_f = \"./english/agr_en_dev.csv\"\n",
    "# f = test_f\n",
    "\n",
    "dev_processed_tokens = english_preprocessing(dev_f)"
   ]
  },
  {
   "cell_type": "code",
   "execution_count": null,
   "metadata": {},
   "outputs": [],
   "source": [
    "len(dev_processed_tokens)"
   ]
  },
  {
   "cell_type": "code",
   "execution_count": null,
   "metadata": {},
   "outputs": [],
   "source": [
    "df['comment']"
   ]
  },
  {
   "cell_type": "code",
   "execution_count": null,
   "metadata": {
    "scrolled": true
   },
   "outputs": [],
   "source": [
    "len(processed_tokens)"
   ]
  },
  {
   "cell_type": "code",
   "execution_count": null,
   "metadata": {},
   "outputs": [],
   "source": [
    "#-----------------For hinglish dataset\n",
    "\n",
    "\n",
    "Hindi_text  = \"hindi/agr_hi_dev.csv\"\n",
    "df1 = pd.read_csv(Hindi_text,names = ['source','comment','annotation'],encoding='UTF-8')\n",
    "df1['comment'] = df1.comment.str.strip()   # removing spaces\n",
    "hindi_comments = np.asarray(df1['comment'])    # dividing the dataframe into comments and tags and converting to array\n",
    "hindi_tags = np.asarray(df1['annotation'])\n",
    "print((hindi_comments[1])) \n",
    "processed_Hindi_tokens = []\n",
    "for comment in hindi_comments:\n",
    "#    comment = \"Also see ....hw ur RSS activist caught in Burkha .... throwing beef in d holy temples...https://www.google.co.in/amp/www.india.com/news/india/burkha-clad-rss-activist-caught-throwing-beef-at-temple-pictures-go-viral-on-facebook-593154/amp/,NAGfacebook_corpus_msr_403402,On the death of 2 jawans in LOC CROSS FIRING\"\n",
    "    comment = comment.lower()   #lower casing each tweets\n",
    "    Digit_REMOVAL = re.sub(r'[0-9]+', '',comment) #removal of numbers \n",
    "    URL_REMOVAL = re.sub(r\"http\\S+\", \"\", Digit_REMOVAL) # removal of URLS\n",
    "    Emoji_removal = remove_emoji(URL_REMOVAL)\n",
    "    if (isEnglish(Emoji_removal) == True):\n",
    "        Emoji_removal = re.sub(r'[^\\w\\s]','',Emoji_removal)# removal of punctuation and tokenizing\n",
    "    processed_Hindi_tokens.append(word_tokenize(Emoji_removal))"
   ]
  },
  {
   "cell_type": "code",
   "execution_count": null,
   "metadata": {},
   "outputs": [],
   "source": [
    "processed_Hindi_tokens"
   ]
  },
  {
   "cell_type": "code",
   "execution_count": null,
   "metadata": {},
   "outputs": [],
   "source": [
    "#-----------Transliteration and translation\n",
    "transliteration_dict = \"transliterations.hi-en.csv\"\n",
    "t_dict = pd.read_csv(transliteration_dict,names = ['Hinglish','Hindi'],encoding='UTF-8',sep='\\t')\n",
    "t_dict['Hinglish'] = t_dict['Hinglish'].str.strip()\n",
    "t_dict['Hindi'] = t_dict['Hindi'].str.strip()\n",
    "t_dict = np.asarray(t_dict)"
   ]
  },
  {
   "cell_type": "code",
   "execution_count": null,
   "metadata": {},
   "outputs": [],
   "source": [
    "t_dict"
   ]
  },
  {
   "cell_type": "code",
   "execution_count": null,
   "metadata": {},
   "outputs": [],
   "source": [
    "#--------------profanity dictionary\n",
    "profanity_dict = \"ProfanityText.txt\"\n",
    "P_dict = pd.read_csv(profanity_dict,names = ['Hinglish','English'],encoding='UTF-8',sep='\\t')\n",
    "P_dict['Hinglish'] = P_dict['Hinglish'].str.strip()\n",
    "P_dict['English'] = P_dict['English'].str.strip()\n",
    "P_dict = np.asarray(P_dict)"
   ]
  },
  {
   "cell_type": "code",
   "execution_count": null,
   "metadata": {},
   "outputs": [],
   "source": [
    "P_dict"
   ]
  },
  {
   "cell_type": "code",
   "execution_count": null,
   "metadata": {},
   "outputs": [],
   "source": [
    "#------------------Translation of hindi text back to english-------\n",
    "\n",
    "Hindi_dict = \"Hindi_English_Dict.csv\"\n",
    "H_dict = pd.read_csv(Hindi_dict,names = ['Hindi','English'],encoding='UTF-8')\n",
    "H_dict['Hindi'] = H_dict['Hindi'].str.strip()\n",
    "H_dict['English'] = H_dict['English'].str.strip()\n",
    "H_hindi = np.asarray(H_dict['Hindi'])\n",
    "H_english = np.asarray(H_dict['English'])\n",
    "\n",
    "HE_dict_F = \"HE_dictionary_functions.csv\"\n",
    "H_dict_F = pd.read_csv(HE_dict_F,names = ['Hindi','English'],encoding='UTF-8')\n",
    "H_dict_F['Hindi'] = H_dict_F['Hindi'].str.strip()\n",
    "H_dict_F['English'] = H_dict_F['English'].str.strip()\n",
    "H_hindi_F = np.asarray(H_dict_F['Hindi'])\n",
    "H_english_F = np.asarray(H_dict_F['English'])\n",
    "\n",
    "HE_dict = dict(zip(H_hindi,H_english))\n",
    "H_dict_F = dict(zip(H_hindi_F,H_english_F))\n",
    "\n",
    "EH_dict = {v:k for k, v in HE_dict.items()}\n",
    "EH_dict_F = {v:k for k, v in H_dict_F.items()}"
   ]
  },
  {
   "cell_type": "code",
   "execution_count": null,
   "metadata": {},
   "outputs": [],
   "source": [
    "H_dict_F"
   ]
  },
  {
   "cell_type": "code",
   "execution_count": null,
   "metadata": {},
   "outputs": [],
   "source": [
    "HE_dict"
   ]
  },
  {
   "cell_type": "code",
   "execution_count": null,
   "metadata": {},
   "outputs": [],
   "source": [
    "processed_Hindi_tokens[0]"
   ]
  },
  {
   "cell_type": "code",
   "execution_count": null,
   "metadata": {
    "scrolled": true
   },
   "outputs": [],
   "source": [
    "for i in range(0,len(processed_Hindi_tokens)):\n",
    "    if i == 51:\n",
    "        break\n",
    "    print(i)\n",
    "    for j in range (0,len(processed_Hindi_tokens[i])):\n",
    "        flag = 0\n",
    "        Str1 = (processed_Hindi_tokens[i][j])\n",
    "        max_ratio = 60\n",
    "        max_ratio_P = 75   #needs to be adjusted\n",
    "        if (Str1 in EH_dict): # check whether the values exists in english dictionary or not.\n",
    "            continue;\n",
    "        for l in range(0,len(P_dict)):\n",
    "            Str2 = P_dict[l][0]\n",
    "            Ratiostr1 = fuzz.ratio(Str1,Str2)\n",
    "            if (Ratiostr1 >= max_ratio_P):\n",
    "                print(Ratiostr1)\n",
    "                max_ratio_P = Ratiostr1\n",
    "                processed_Hindi_tokens[i][j] = P_dict[l][1]\n",
    "                flag = 1 \n",
    "                print(flag)\n",
    "                break;\n",
    "        for p in EH_dict_F:\n",
    "            Rationstr1 = fuzz.ratio(Str1,str(p))\n",
    "            if(Ratiostr1 >= 98):\n",
    "                flag = 1\n",
    "                break;\n",
    "        if (flag == 1):\n",
    "            continue;\n",
    "        \n",
    "        else:\n",
    "            for k in range(0,len(t_dict)):\n",
    "                Str2 = t_dict[k][0]\n",
    "                Ratiostr1 = fuzz.ratio(Str1,Str2)\n",
    "                if (Ratiostr1 > max_ratio):\n",
    "                    max_ratio = Ratiostr1\n",
    "                    processed_Hindi_tokens[i][j] = t_dict[k][1]"
   ]
  },
  {
   "cell_type": "code",
   "execution_count": null,
   "metadata": {},
   "outputs": [],
   "source": [
    "# convert any hindi word which can be converted to english\n",
    "for i in range(0,len(processed_Hindi_tokens)):\n",
    "#     print(i)\n",
    "    for j in range (0,len(processed_Hindi_tokens[i])):\n",
    "        Str = processed_Hindi_tokens[i][j]\n",
    "        if(Str in HE_dict):\n",
    "            processed_Hindi_tokens[i][j] = HE_dict[Str]\n",
    "        elif(Str in H_dict_F):\n",
    "            processed_Hindi_tokens[i][j] = H_dict_F[Str]"
   ]
  },
  {
   "cell_type": "code",
   "execution_count": null,
   "metadata": {},
   "outputs": [],
   "source": [
    "processed_Hindi_tokens[0]"
   ]
  },
  {
   "cell_type": "markdown",
   "metadata": {},
   "source": [
    "# Model"
   ]
  },
  {
   "cell_type": "code",
   "execution_count": null,
   "metadata": {},
   "outputs": [],
   "source": [
    "#------------------------------MODEL           \n",
    "\n",
    "import torch\n",
    "from torch import nn\n",
    "from torch.autograd import Variable\n",
    "import torch.nn.functional as F"
   ]
  },
  {
   "cell_type": "code",
   "execution_count": null,
   "metadata": {},
   "outputs": [],
   "source": [
    "cuda = torch.device(\"cuda:0\" if torch.cuda.is_available() else 'cpu')\n",
    "\n",
    "torch.manual_seed(42)"
   ]
  },
  {
   "cell_type": "code",
   "execution_count": null,
   "metadata": {},
   "outputs": [],
   "source": [
    "class MIMCT(nn.Module):   \n",
    "    def __init__(self,input_channel,vocab_size,word_to_ix,output_channel,embedding_dim,hidden_dim,kernel_size,feature_linear):\n",
    "        super(MIMCT, self).__init__()\n",
    "        self.CNN_Layers = nn.Sequential( \n",
    "            nn.Conv1d(input_channel, output_channel,kernel_size[0], stride=1),\n",
    "            nn.Conv1d(input_channel, output_channel, kernel_size[1], stride=1),\n",
    "            nn.Conv1d(input_channel, output_channel, kernel_size[2], stride=1),\n",
    "            nn.Flatten(),nn.Dropout(p=0.25),\n",
    "            nn.Linear(feature_linear, 64),\n",
    "            nn.ReLU(),\n",
    "            nn.Linear(64, 3),\n",
    "            nn.Softmax()\n",
    "            )\n",
    "           \n",
    "        #create LSTM.\n",
    "        self.word_embeddings = nn.Embedding(vocab_size, embedding_dim)\n",
    "        self.lstm = nn.LSTM(embedding_dim, hidden_dim)\n",
    "        self.hidden2tag = nn.Linear(hidden_dim,3)\n",
    "        self.dropout = nn.Dropout(p=0.20)\n",
    "        self.softmax = nn.Softmax()\n",
    "        self.sigmoid = nn.Sigmoid()\n",
    "        self.maxpool = nn.MaxPool1d(kernel_size=3, stride=1)\n",
    "        self.linear = nn.Linear(50+1,3)\n",
    "    \n",
    "    def forward(self,x):\n",
    "      #  y = self.LSTM_Layers(x)\n",
    "        embeds = self.word_embeddings(x)\n",
    "        \n",
    "        embeds_cnn = embeds.view(1,embeds.size(0),embeds.size(1))\n",
    "        cnn_output = self.CNN_Layers(embeds_cnn)\n",
    "        \n",
    "        lstm_out, _ = self.lstm(embeds.view(len(x), 1, -1))\n",
    "        lstm_out= self.dropout(lstm_out)\n",
    "        tag_space = self.hidden2tag(lstm_out.view(len(x), -1))\n",
    "        \n",
    "        lstm_output = self.softmax(tag_space)\n",
    "        #concat the outputs the compile layer with categorical cross-entropy the loss function,\n",
    "        lstm_output = lstm_output.view(lstm_output.size(0),-1)\n",
    "        cnn_output = cnn_output.view(cnn_output.size(0),-1)\n",
    "        X = torch.cat((lstm_output,cnn_output))\n",
    "        X = X.view(1,X.size(0),X.size(1))\n",
    "        X = self.maxpool(X)\n",
    "        X = self.linear(X.view(X.size(2), -1))\n",
    "        X = self.softmax(X)\n",
    "#         print(X)\n",
    "        \n",
    "        return X"
   ]
  },
  {
   "cell_type": "code",
   "execution_count": null,
   "metadata": {},
   "outputs": [],
   "source": [
    "def prepare_sequence(seq, to_ix):\n",
    "    idxs = [to_ix[w] for w in seq]\n",
    "    return torch.tensor(idxs, dtype=torch.long).to(cuda)\n",
    "\n",
    "\n",
    "def prepare_sequence_tags(seq, to_ix):\n",
    "    idxs = to_ix[seq]\n",
    "    idxs = torch.tensor(idxs, dtype=torch.long)\n",
    "    idxs = idxs.view(1)\n",
    "    return idxs\n",
    "\n",
    "\n",
    "def sentence_to_padded_sentence(sentence,word_to_ix):    \n",
    "    # map sentences to vocab\n",
    "    sentence =  [[word_to_ix[word] for word in sent] for sent in sentence]\n",
    "    # sentence now looks like:  \n",
    "    # [[1, 2, 3, 4, 5, 6, 7], [8, 8], [7, 9]]\n",
    "    sentence_lengths = [len(sent) for sent in sentence]\n",
    "    pad_token = word_to_ix['<PAD>']\n",
    "    longest_sent = max(sentence_lengths)\n",
    "    batch_size = len(sentence)\n",
    "    padded_sentence = np.ones((batch_size, longest_sent)) * pad_token\n",
    "    \n",
    "    for i, x_len in enumerate(sentence_lengths):\n",
    "        sequence = sentence[i]\n",
    "        padded_sentence[i, 0:x_len] = sequence[:x_len]\n",
    "    \n",
    "    return padded_sentence"
   ]
  },
  {
   "cell_type": "code",
   "execution_count": null,
   "metadata": {},
   "outputs": [],
   "source": [
    "training_data = utils.substitute_with_UNK(processed_tokens,1)\n",
    "# print(training_data)\n",
    "print(len(training_data))"
   ]
  },
  {
   "cell_type": "code",
   "execution_count": null,
   "metadata": {},
   "outputs": [],
   "source": [
    "testing_data = utils.substitute_with_UNK_for_TEST(processed_tokens,word_to_ix)\n",
    "print(len(testing_data))"
   ]
  },
  {
   "cell_type": "code",
   "execution_count": null,
   "metadata": {},
   "outputs": [],
   "source": [
    "dev_data = utils.substitute_with_UNK_for_TEST(dev_processed_tokens,word_to_ix)\n",
    "print(len(dev_data))"
   ]
  },
  {
   "cell_type": "code",
   "execution_count": null,
   "metadata": {},
   "outputs": [],
   "source": [
    "word_to_ix = {}\n",
    "ix_to_word = {}\n",
    "tag_to_ix = {}\n",
    "ix_to_tag = {}\n",
    "word_to_ix = {\"<PAD>\":0}\n",
    "\n",
    "for sent in training_data:\n",
    "\tfor word in sent:\n",
    "\t\tif word not in word_to_ix:\n",
    "\t\t\tword_to_ix[word] = len(word_to_ix)\n",
    "\t\t\tix_to_word[word_to_ix[word]] = word\n",
    "\n",
    "for tag in tags:\n",
    "\tif tag not in tag_to_ix:\n",
    "\t\ttag_to_ix[tag] = len(tag_to_ix)\n",
    "\t\tix_to_tag[tag_to_ix[tag]] = tag\n",
    "\n",
    "# test_sentence= []\n",
    "# for sent in testing_data:\n",
    "#      test_sentence.append(sent[:50])\n",
    "\n",
    "# test_padded_sentence = sentence_to_padded_sentence(test_sentence, word_to_ix)"
   ]
  },
  {
   "cell_type": "code",
   "execution_count": null,
   "metadata": {},
   "outputs": [],
   "source": [
    "sentence= []\n",
    "\n",
    "for sent in training_data:\n",
    "    sentence.append(sent[:50])\n",
    "\n",
    "padded_sentence = sentence_to_padded_sentence(sentence, word_to_ix)"
   ]
  },
  {
   "cell_type": "code",
   "execution_count": null,
   "metadata": {},
   "outputs": [],
   "source": [
    "len(padded_sentence)"
   ]
  },
  {
   "cell_type": "code",
   "execution_count": null,
   "metadata": {},
   "outputs": [],
   "source": [
    "test_sentence= []\n",
    "for sent in testing_data:\n",
    "     test_sentence.append(sent[:50])\n",
    "        \n",
    "test_padded_sentence = sentence_to_padded_sentence(test_sentence, word_to_ix)"
   ]
  },
  {
   "cell_type": "code",
   "execution_count": null,
   "metadata": {},
   "outputs": [],
   "source": [
    "len(test_padded_sentence)"
   ]
  },
  {
   "cell_type": "code",
   "execution_count": null,
   "metadata": {},
   "outputs": [],
   "source": [
    "dev_sentence= []\n",
    "for sent in dev_data:\n",
    "     dev_sentence.append(sent[:50])\n",
    "        \n",
    "dev_padded_sentence = sentence_to_padded_sentence(dev_sentence, word_to_ix)"
   ]
  },
  {
   "cell_type": "code",
   "execution_count": null,
   "metadata": {},
   "outputs": [],
   "source": [
    "len(dev_padded_sentence)"
   ]
  },
  {
   "cell_type": "code",
   "execution_count": null,
   "metadata": {},
   "outputs": [],
   "source": [
    "#try with output channel 1 as well.\n",
    "   \n",
    "batch_size = 1\n",
    "input_channel = 50 #vocab size\n",
    "vocab_size = len(word_to_ix) \n",
    "embedding_dim = 200 \n",
    "output_channel = 50\n",
    "kernel_size = [20,15,10]\n",
    "Feature_layer1 = embedding_dim - kernel_size[0] + 1\n",
    "Feature_layer2 = Feature_layer1 - kernel_size[1] + 1\n",
    "Feature_layer3 = Feature_layer2 - kernel_size[2] + 1\n",
    "feature_linear = Feature_layer3 * input_channel\n",
    "\n",
    "#Parameters for LSTM\n",
    "hidden_dim = 128\n",
    "dropout = 0.25, \n",
    "#recurrent_dropout = 0.3\n",
    "\n",
    "model = MIMCT(input_channel,vocab_size,word_to_ix,output_channel,embedding_dim,hidden_dim,kernel_size,feature_linear).to(cuda)\n",
    "loss_function = nn.CrossEntropyLoss()\n",
    "#Adam Optimizer\n",
    "optimizer = optim.Adam(model.parameters(), lr=0.001)\n",
    "original_data = training_data\n",
    "training_data = padded_sentence"
   ]
  },
  {
   "cell_type": "code",
   "execution_count": null,
   "metadata": {},
   "outputs": [],
   "source": [
    "dev_data = dev_padded_sentence"
   ]
  },
  {
   "cell_type": "code",
   "execution_count": null,
   "metadata": {
    "scrolled": true
   },
   "outputs": [],
   "source": [
    "# CODE TO IMPLEMENT EARLY STOPPING\n",
    "PATIENCE = 8\n",
    "counter = 0\n",
    "minLoss = float('inf')\n",
    "\n",
    "for epoch in range(11):  # running for 20 epoch\n",
    "    train_sentence_losses = []\n",
    "    dev_sentence_losses = []\n",
    "    print(\"Epoch:\", epoch)\n",
    "    print(\"\\nTraining Phase:\")\n",
    "    #for sentence in training_data:\n",
    "    for index,sentence in enumerate(training_data):\n",
    "        model.zero_grad()\n",
    "        targets = tags[index]\n",
    "        sentence_in = torch.tensor(sentence, dtype=torch.long).to(cuda)\n",
    "        targets = prepare_sequence_tags(targets, tag_to_ix)\n",
    "        tag_scores = model(sentence_in)\n",
    "        loss = loss_function(tag_scores.cpu(), targets)\n",
    "        train_sentence_losses.append(loss.item())\n",
    "        loss.backward()\n",
    "        optimizer.step()\n",
    "    final_train_loss = sum(train_sentence_losses)/len(train_sentence_losses)\n",
    "    print(\"Train Loss:\", final_train_loss)\n",
    "    \n",
    "    with torch.no_grad():\n",
    "        print(\"\\nTesting Phase:\")\n",
    "        for sentence, tags in dev_data:\n",
    "            sentence_in = torch.tensor(sentence, dtype=torch.long).to(cuda)\n",
    "            targets = prepare_sequence_tags(targets, tag_to_ix)\n",
    "            # Step 3. Run our forward pass.\n",
    "            tag_scores = model(sentence_in)\n",
    "            # Step 4. Compute the loss, gradients, and update the parameters by\n",
    "            #  calling optimizer.step()\n",
    "            dev_loss = loss_function(tag_scores.cpu(), targets)\n",
    "            dev_sentence_losses.append(dev_loss.item())\n",
    "        final_dev_loss = sum(dev_sentence_losses)/len(dev_sentence_losses)\n",
    "        print(\"Dev Loss:\", final_dev_loss, \"\\n\")\n",
    "        \n",
    "        if final_dev_loss < minLoss:\n",
    "            torch.save(model.state_dict(), \"./MIMCT_SAIF.pth\")\n",
    "            print(\"Current loss < Previous Loss\")\n",
    "            minLoss = final_dev_loss\n",
    "            print(\"minLoss set to = \", minLoss)\n",
    "            counter = 0\n",
    "            print(\"Counter reset\\n\")\n",
    "            \n",
    "        if final_dev_loss > minLoss:\n",
    "            print(\"Current loss > Min Loss\")\n",
    "            counter += 1\n",
    "            print(\"counter = \", counter)\n",
    "            if counter == PATIENCE:\n",
    "                print(\"counter = patience\")\n",
    "                FINALEPOCH = epoch-counter\n",
    "                break\n",
    "\n",
    "print(FINALEPOCH)"
   ]
  },
  {
   "cell_type": "code",
   "execution_count": null,
   "metadata": {},
   "outputs": [],
   "source": []
  },
  {
   "cell_type": "code",
   "execution_count": null,
   "metadata": {},
   "outputs": [],
   "source": [
    "testing_data = test_padded_sentence\n",
    "with torch.no_grad():\n",
    "\t# this will be the file to write the outputs\n",
    "    with open(\"mymodel_output.txt\", 'w',encoding='UTF-8') as op:\n",
    "        for instance in testing_data:\n",
    "\t\t\t# Convert the test sentence into a word ID tensor\n",
    "            test_sentence_in = torch.tensor(instance, dtype=torch.long).to(cuda)\n",
    "\n",
    "            tag_scores = model(test_sentence_in)\n",
    "\t\n",
    "\t\t\t# Find the tag with the highest probability in each position\n",
    "            outputs = [int(np.argmax(ts)) for ts in tag_scores.cpu().detach().numpy()]\n",
    "\t\t\t# Prepare the output to be written in the same format as the test file (word|tag)\n",
    "            formatted_output = ix_to_tag[outputs[0]]\n",
    "\t\t\t# Write the output\n",
    "            op.write(formatted_output + '\\n')\n",
    "            \n",
    "#         print(i)\n",
    "        print(len(test_data))"
   ]
  },
  {
   "cell_type": "code",
   "execution_count": null,
   "metadata": {},
   "outputs": [],
   "source": []
  }
 ],
 "metadata": {
  "kernelspec": {
   "display_name": "Python 3",
   "language": "python",
   "name": "python3"
  },
  "language_info": {
   "codemirror_mode": {
    "name": "ipython",
    "version": 3
   },
   "file_extension": ".py",
   "mimetype": "text/x-python",
   "name": "python",
   "nbconvert_exporter": "python",
   "pygments_lexer": "ipython3",
   "version": "3.8.5"
  }
 },
 "nbformat": 4,
 "nbformat_minor": 4
}
